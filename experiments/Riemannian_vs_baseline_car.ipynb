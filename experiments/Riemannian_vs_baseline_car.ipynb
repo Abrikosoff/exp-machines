{
 "cells": [
  {
   "cell_type": "code",
   "execution_count": 1,
   "metadata": {
    "collapsed": false
   },
   "outputs": [],
   "source": [
    "import os\n",
    "import cPickle as pickle\n",
    "import numpy as np\n",
    "import pandas as pd\n",
    "from sklearn.cross_validation import train_test_split\n",
    "\n",
    "import sys\n",
    "sys.path.append('../')\n",
    "\n",
    "%matplotlib inline\n",
    "import matplotlib as mpl\n",
    "import matplotlib.pylab as plt\n",
    "from src.TTRegression import TTRegression\n",
    "import urllib"
   ]
  },
  {
   "cell_type": "code",
   "execution_count": 2,
   "metadata": {
    "collapsed": true
   },
   "outputs": [],
   "source": [
    "train_fraction = 0.8"
   ]
  },
  {
   "cell_type": "code",
   "execution_count": 3,
   "metadata": {
    "collapsed": true
   },
   "outputs": [],
   "source": [
    "def get_dummies(d, col):\n",
    "    dd = pd.get_dummies(d.ix[:, col])\n",
    "    dd.columns = [str(col) + \"_%s\" % c for c in dd.columns]\n",
    "    return(dd)"
   ]
  },
  {
   "cell_type": "code",
   "execution_count": 4,
   "metadata": {
    "collapsed": false
   },
   "outputs": [
    {
     "name": "stdout",
     "output_type": "stream",
     "text": [
      "... loading data\n",
      "dataset len: 1728\n",
      "\n",
      "Original targets:\n",
      "unacc    1210\n",
      "acc       384\n",
      "good       69\n",
      "vgood      65\n",
      "Name: target, dtype: int64\n"
     ]
    }
   ],
   "source": [
    "# Reproducability.\n",
    "np.random.seed(0)\n",
    "\n",
    "dataset_path = 'car.data'\n",
    "if (not os.path.isfile(dataset_path)):\n",
    "    dataset_url = 'http://archive.ics.uci.edu/ml/machine-learning-databases/car/car.data'\n",
    "    print('Downloading data from %s' % dataset_url)\n",
    "    urllib.urlretrieve(dataset_url, dataset_path)\n",
    "\n",
    "print('... loading data')\n",
    "car_names = ['buying', 'maint', 'doors', 'persons', 'lug_boot', 'safety', 'target']\n",
    "car_data = pd.read_csv(dataset_path, names=car_names, header=None)\n",
    "\n",
    "print \"dataset len: %d\\n\" % len(car_data)\n",
    "print \"Original targets:\"\n",
    "print car_data.target.value_counts()\n",
    "\n",
    "# Make binary classification problem.\n",
    "car_target = car_data['target']\n",
    "car_target_binarized = (car_target.values != 'unacc') * 1\n",
    "\n",
    "car_features = car_data.ix[:, :6]\n",
    "car_features_one_hot = pd.concat([get_dummies(car_features, col) for col in list(car_features.columns.values)], axis = 1)\n",
    "car_features_one_hot = car_features_one_hot.as_matrix()\n",
    "\n",
    "# Shuffle.\n",
    "idx_perm = np.random.permutation(len(car_data))\n",
    " \n",
    "X, y = car_features_one_hot[idx_perm, :], car_target_binarized[idx_perm]\n",
    "\n",
    "num_objects = y.size\n",
    "train_size = np.round(num_objects * train_fraction).astype(int)\n",
    "X_train = X[:train_size, :]\n",
    "y_train = y[:train_size]\n",
    "X_val = X[train_size:, :]\n",
    "y_val = y[train_size:]"
   ]
  },
  {
   "cell_type": "code",
   "execution_count": 5,
   "metadata": {
    "collapsed": false
   },
   "outputs": [
    {
     "name": "stdout",
     "output_type": "stream",
     "text": [
      "(1382, 21)\n",
      "(346, 21)\n"
     ]
    }
   ],
   "source": [
    "print(X_train.shape)\n",
    "print(X_val.shape)"
   ]
  },
  {
   "cell_type": "markdown",
   "metadata": {},
   "source": [
    "# Train"
   ]
  },
  {
   "cell_type": "code",
   "execution_count": 6,
   "metadata": {
    "collapsed": false
   },
   "outputs": [],
   "source": [
    "plain_sgd = {}\n",
    "riemannian_sgd = {}\n",
    "\n",
    "for batch_size in [-1, 100, 500]:\n",
    "    # To use the same order of looping through objects for all runs.\n",
    "    np.random.seed(0)\n",
    "    model = TTRegression('all-subsets', 'logistic', 4, 'sgd', max_iter=10000, verbose=1,\n",
    "                         fit_intercept=False, batch_size=batch_size, reg=0.)\n",
    "    model.fit_log_val(X_train, y_train, X_val, y_val)\n",
    "    plain_sgd[batch_size] = model\n",
    "\n",
    "    np.random.seed(0)\n",
    "    # To use the same order of looping through objects for all runs.\n",
    "    rieamannian_model = TTRegression('all-subsets', 'logistic', 4, 'riemannian-sgd', max_iter=800, verbose=1,\n",
    "                                     batch_size=batch_size, fit_intercept=False, reg=0.)\n",
    "    rieamannian_model.fit_log_val(X_train, y_train, X_val, y_val)\n",
    "    riemannian_sgd[batch_size] = rieamannian_model"
   ]
  },
  {
   "cell_type": "markdown",
   "metadata": {},
   "source": [
    "## Train from random init"
   ]
  },
  {
   "cell_type": "code",
   "execution_count": 8,
   "metadata": {
    "collapsed": false
   },
   "outputs": [],
   "source": [
    "import tt\n",
    "np.random.seed(0)\n",
    "w_init = tt.rand(2 * np.ones(X.shape[1]), r=4)\n",
    "# Divide by norm to make sure the norm is reasonable,\n",
    "# round to make all the ranks are valid.\n",
    "w_init = ((1 / w_init.norm()) * w_init).round(eps=0)\n",
    "\n",
    "plain_sgd_rand = {}\n",
    "riemannian_sgd_rand = {}\n",
    "\n",
    "batch_size = -1\n",
    "# To use the same order of looping through objects for all runs.\n",
    "np.random.seed(0)\n",
    "model_rand = TTRegression('all-subsets', 'logistic', 4, 'sgd', max_iter=5000, verbose=1,\n",
    "                     fit_intercept=False, batch_size=batch_size, reg=0., coef0=w_init)\n",
    "model_rand.fit_log_val(X_train, y_train, X_val, y_val)\n",
    "plain_sgd_rand[batch_size] = model_rand\n",
    "\n",
    "np.random.seed(0)\n",
    "# To use the same order of looping through objects for all runs.\n",
    "riemannian_model_rand = TTRegression('all-subsets', 'logistic', 4, 'riemannian-sgd', max_iter=1600, verbose=1,\n",
    "                                 batch_size=batch_size, fit_intercept=False, reg=0., coef0=w_init)\n",
    "riemannian_model_rand.fit_log_val(X_train, y_train, X_val, y_val)\n",
    "riemannian_sgd_rand[batch_size] = riemannian_model_rand"
   ]
  },
  {
   "cell_type": "markdown",
   "metadata": {},
   "source": [
    "# Save"
   ]
  },
  {
   "cell_type": "code",
   "execution_count": 9,
   "metadata": {
    "collapsed": false
   },
   "outputs": [],
   "source": [
    "with open('data/riemannian_vs_baseline_car.pickle', 'wb') as f:\n",
    "    obj = {'plain_sgd': plain_sgd, 'riemannian_sgd': riemannian_sgd,\n",
    "           'plain_sgd_rand': plain_sgd_rand, 'riemannian_sgd_rand': riemannian_sgd_rand,\n",
    "           'X_train': X_train, 'y_train': y_train, 'X_val': X_val, 'y_val': y_val}\n",
    "    pickle.dump(obj, f, protocol=pickle.HIGHEST_PROTOCOL)"
   ]
  },
  {
   "cell_type": "markdown",
   "metadata": {},
   "source": [
    "# Plot train"
   ]
  },
  {
   "cell_type": "code",
   "execution_count": 10,
   "metadata": {
    "collapsed": true
   },
   "outputs": [],
   "source": [
    "params = {\n",
    "   'axes.labelsize': 8,\n",
    "   'font.size': 8,\n",
    "   'legend.fontsize': 10,\n",
    "   'xtick.labelsize': 10,\n",
    "   'ytick.labelsize': 10,\n",
    "   'text.usetex': False,\n",
    "   'figure.figsize': [4, 3]\n",
    "   }\n",
    "mpl.rcParams.update(params)\n",
    "\n",
    "\n",
    "colors = [(31, 119, 180), (44, 160, 44), (255, 127, 14), (255, 187, 120)]\n",
    "# Scale the RGB values to the [0, 1] range, which is the format matplotlib accepts.\n",
    "for i in range(len(colors)):\n",
    "    r, g, b = colors[i]\n",
    "    colors[i] = (r / 255., g / 255., b / 255.)"
   ]
  },
  {
   "cell_type": "code",
   "execution_count": 16,
   "metadata": {
    "collapsed": false
   },
   "outputs": [
    {
     "data": {
      "image/png": "[encoded data removed]",
      "text/plain": [
       "<matplotlib.figure.Figure at 0x1115201d0>"
      ]
     },
     "metadata": {},
     "output_type": "display_data"
    }
   ],
   "source": [
    "with open('data/riemannian_vs_baseline_car.pickle', 'rb') as f:\n",
    "    logs = pickle.load(f)\n",
    "\n",
    "fig = plt.figure()\n",
    "plt.loglog(logs['plain_sgd'][-1].logger.time_hist,\n",
    "           logs['plain_sgd'][-1].logger.loss_hist['train']['logistic'], label='Cores GD',\n",
    "           linewidth=2, color=colors[0])\n",
    "plt.loglog(logs['plain_sgd'][100].logger.time_hist, logs['plain_sgd'][100].logger.loss_hist['train']['logistic'],\n",
    "           label='Cores SGD 100', linewidth=2, color=colors[1])\n",
    "plt.loglog(logs['plain_sgd'][500].logger.time_hist, logs['plain_sgd'][500].logger.loss_hist['train']['logistic'],\n",
    "           label='Cores SGD 500', linewidth=2, color=colors[2])\n",
    "\n",
    "grid = np.array([0.01, 1, 5, 30, 60]) / 2.5\n",
    "x = logs['riemannian_sgd'][-1].logger.time_hist\n",
    "marker_indices = np.searchsorted(x, grid)\n",
    "plt.loglog(logs['riemannian_sgd'][-1].logger.time_hist,\n",
    "           logs['riemannian_sgd'][-1].logger.loss_hist['train']['logistic'],\n",
    "           marker='o', markevery=marker_indices, label='Riemann GD', linewidth=2, color=colors[0])\n",
    "grid = np.array([0.05, 2, 12, 30]) / 2.5\n",
    "x = logs['riemannian_sgd'][100].logger.time_hist\n",
    "marker_indices = np.searchsorted(x, grid)\n",
    "plt.loglog(logs['riemannian_sgd'][100].logger.time_hist,\n",
    "           logs['riemannian_sgd'][100].logger.loss_hist['train']['logistic'],\n",
    "           marker='o', markevery=marker_indices, label='Riemann 100', linewidth=2, color=colors[1])\n",
    "grid = np.array([0.1, 7.5, 60]) / 2.5\n",
    "x = logs['riemannian_sgd'][500].logger.time_hist\n",
    "marker_indices = np.searchsorted(x, grid)\n",
    "plt.loglog(logs['riemannian_sgd'][500].logger.time_hist,\n",
    "           logs['riemannian_sgd'][500].logger.loss_hist['train']['logistic'],\n",
    "           marker='o', markevery=marker_indices, label='Riemann 500', linewidth=2, color=colors[2])\n",
    "\n",
    "grid = np.array([0.1, 3, 20, 53])\n",
    "x = riemannian_sgd_rand[-1].logger.time_hist\n",
    "marker_indices = np.searchsorted(x, grid)\n",
    "plt.loglog(riemannian_sgd_rand[-1].logger.time_hist,\n",
    "           riemannian_sgd_rand[-1].logger.loss_hist['train']['logistic'],\n",
    "           marker='s', markevery=marker_indices, label='Riemann GD rand init', linewidth=2, color=colors[0])\n",
    "\n",
    "# plt.loglog(plain_sgd_rand[-1].logger.time_hist,\n",
    "#            plain_sgd_rand[-1].logger.loss_hist['train']['logistic'],\n",
    "#            marker='v', markevery=marker_indices, label='Cores GD rand init', linewidth=2, color=colors[0])\n",
    "\n",
    "legend = plt.legend(loc='upper left', bbox_to_anchor=(1, 1.04), frameon=False)\n",
    "plt.xlabel('time (s)')\n",
    "plt.ylabel('logistic loss')\n",
    "plt.minorticks_off()\n",
    "ax = plt.gca()\n",
    "ax.set_xlim([0.02, 100])\n",
    "ax.set_ylim([1e-17, 2])\n",
    "fig.tight_layout()"
   ]
  },
  {
   "cell_type": "code",
   "execution_count": 12,
   "metadata": {
    "collapsed": true
   },
   "outputs": [],
   "source": [
    "fig.savefig('data/riemannian_vs_plain_car_train.pdf', bbox_extra_artists=(legend,), bbox_inches='tight')"
   ]
  },
  {
   "cell_type": "markdown",
   "metadata": {
    "collapsed": false
   },
   "source": [
    "# Plot validation"
   ]
  },
  {
   "cell_type": "code",
   "execution_count": 13,
   "metadata": {
    "collapsed": false
   },
   "outputs": [
    {
     "data": {
      "image/png": "[encoded data removed]",
      "text/plain": [
       "<matplotlib.figure.Figure at 0x113bcc790>"
      ]
     },
     "metadata": {},
     "output_type": "display_data"
    }
   ],
   "source": [
    "with open('data/riemannian_vs_baseline_car.pickle', 'rb') as f:\n",
    "    logs = pickle.load(f)\n",
    "\n",
    "fig = plt.figure()\n",
    "plt.loglog(logs['plain_sgd'][-1].logger.time_hist,\n",
    "           logs['plain_sgd'][-1].logger.loss_hist['valid']['logistic'], label='Cores GD',\n",
    "           linewidth=2, color=colors[0])\n",
    "plt.loglog(logs['plain_sgd'][100].logger.time_hist, logs['plain_sgd'][100].logger.loss_hist['valid']['logistic'],\n",
    "           label='Cores SGD 100', linewidth=2, color=colors[1])\n",
    "plt.loglog(logs['plain_sgd'][500].logger.time_hist, logs['plain_sgd'][500].logger.loss_hist['valid']['logistic'],\n",
    "           label='Cores SGD 500', linewidth=2, color=colors[2])\n",
    "\n",
    "grid = np.array([0.01, 1, 5, 30, 60]) / 2.5\n",
    "x = logs['riemannian_sgd'][-1].logger.time_hist\n",
    "marker_indices = np.searchsorted(x, grid)\n",
    "plt.loglog(logs['riemannian_sgd'][-1].logger.time_hist,\n",
    "           logs['riemannian_sgd'][-1].logger.loss_hist['valid']['logistic'],\n",
    "           marker='o', markevery=marker_indices, label='Riemann GD', linewidth=2, color=colors[0])\n",
    "grid = np.array([0.05, 2, 12, 30]) / 2.5\n",
    "x = logs['riemannian_sgd'][100].logger.time_hist\n",
    "marker_indices = np.searchsorted(x, grid)\n",
    "plt.loglog(logs['riemannian_sgd'][100].logger.time_hist,\n",
    "           logs['riemannian_sgd'][100].logger.loss_hist['valid']['logistic'],\n",
    "           marker='o', markevery=marker_indices, label='Riemann 100', linewidth=2, color=colors[1])\n",
    "grid = np.array([0.1, 7.5, 60]) / 2.5\n",
    "x = logs['riemannian_sgd'][500].logger.time_hist\n",
    "marker_indices = np.searchsorted(x, grid)\n",
    "plt.loglog(logs['riemannian_sgd'][500].logger.time_hist,\n",
    "           logs['riemannian_sgd'][500].logger.loss_hist['valid']['logistic'],\n",
    "           marker='o', markevery=marker_indices, label='Riemann 500', linewidth=2, color=colors[2])\n",
    "\n",
    "grid = np.array([0.1, 3, 20, 53])\n",
    "x = riemannian_sgd_rand[-1].logger.time_hist\n",
    "marker_indices = np.searchsorted(x, grid)\n",
    "plt.loglog(riemannian_sgd_rand[-1].logger.time_hist,\n",
    "           riemannian_sgd_rand[-1].logger.loss_hist['valid']['logistic'],\n",
    "           marker='s', markevery=marker_indices, label='Riemann GD rand init', linewidth=2, color=colors[0])\n",
    "\n",
    "# plt.loglog(plain_sgd_rand[-1].logger.time_hist,\n",
    "#            plain_sgd_rand[-1].logger.loss_hist['valid']['logistic'],\n",
    "#            marker='v', label='Cores GD rand init', linewidth=2, color=colors[0])\n",
    "\n",
    "legend = plt.legend(loc='upper left', bbox_to_anchor=(1, 1.04), frameon=False)\n",
    "plt.xlabel('time (s)')\n",
    "plt.ylabel('validation logistic loss')\n",
    "plt.minorticks_off()\n",
    "ax = plt.gca()\n",
    "ax.set_xlim([0.02, 100])\n",
    "ax.set_ylim([1e-17, 2])\n",
    "fig.tight_layout()"
   ]
  },
  {
   "cell_type": "code",
   "execution_count": 14,
   "metadata": {
    "collapsed": true
   },
   "outputs": [],
   "source": [
    "fig.savefig('data/riemannian_vs_plain_car_validation.pdf', bbox_extra_artists=(legend,), bbox_inches='tight')"
   ]
  },
  {
   "cell_type": "code",
   "execution_count": null,
   "metadata": {
    "collapsed": true
   },
   "outputs": [],
   "source": []
  }
 ],
 "metadata": {
  "kernelspec": {
   "display_name": "Python 2",
   "language": "python",
   "name": "python2"
  },
  "language_info": {
   "codemirror_mode": {
    "name": "ipython",
    "version": 2
   },
   "file_extension": ".py",
   "mimetype": "text/x-python",
   "name": "python",
   "nbconvert_exporter": "python",
   "pygments_lexer": "ipython2",
   "version": "2.7.9"
  }
 },
 "nbformat": 4,
 "nbformat_minor": 0
}
