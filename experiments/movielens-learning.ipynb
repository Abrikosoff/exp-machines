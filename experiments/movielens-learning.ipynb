{
 "cells": [
  {
   "cell_type": "code",
   "execution_count": 1,
   "metadata": {
    "collapsed": true
   },
   "outputs": [],
   "source": [
    "import numpy as np\n",
    "import tensorflow as tf\n",
    "\n",
    "from sklearn.linear_model import LogisticRegression\n",
    "from sklearn.metrics import roc_auc_score\n",
    "import json\n",
    "import pickle\n",
    "from sklearn.externals import joblib"
   ]
  },
  {
   "cell_type": "code",
   "execution_count": 2,
   "metadata": {
    "collapsed": false
   },
   "outputs": [],
   "source": [
    "import sys\n",
    "sys.path.append('../src/')"
   ]
  },
  {
   "cell_type": "code",
   "execution_count": 3,
   "metadata": {
    "collapsed": true
   },
   "outputs": [],
   "source": [
    "from TFExpMachine import TFExpMachine, simple_batcher"
   ]
  },
  {
   "cell_type": "markdown",
   "metadata": {
    "collapsed": true
   },
   "source": [
    "# Load data (see movielens-prepare.ipynb)"
   ]
  },
  {
   "cell_type": "code",
   "execution_count": 4,
   "metadata": {
    "collapsed": false
   },
   "outputs": [],
   "source": [
    "X_tr, y_tr, s_features = joblib.load('tmp/train_categotical.jl')\n",
    "X_te, y_te, s_features = joblib.load('tmp/test_categorical.jl')"
   ]
  },
  {
   "cell_type": "markdown",
   "metadata": {},
   "source": [
    "# Prepare init from LogReg"
   ]
  },
  {
   "cell_type": "code",
   "execution_count": 5,
   "metadata": {
    "collapsed": true
   },
   "outputs": [],
   "source": [
    "from sklearn.preprocessing import OneHotEncoder\n",
    "from sklearn.linear_model import LogisticRegression\n",
    "from sklearn.metrics import roc_auc_score"
   ]
  },
  {
   "cell_type": "code",
   "execution_count": 6,
   "metadata": {
    "collapsed": false
   },
   "outputs": [
    {
     "name": "stdout",
     "output_type": "stream",
     "text": [
      "0.782123491491\n"
     ]
    }
   ],
   "source": [
    "target_rank = 10\n",
    "\n",
    "oh = OneHotEncoder()\n",
    "oh.fit(np.vstack((X_tr, X_te))-1)\n",
    "X_tr_sp = oh.transform(X_tr-1)\n",
    "X_te_sp = oh.transform(X_te-1)\n",
    "logreg = LogisticRegression()\n",
    "logreg.fit(X_tr_sp, y_tr)\n",
    "y_pred = logreg.predict_proba(X_te_sp)[:, 1]\n",
    "print(roc_auc_score(y_te, y_pred))"
   ]
  },
  {
   "cell_type": "code",
   "execution_count": 7,
   "metadata": {
    "collapsed": false
   },
   "outputs": [],
   "source": [
    "target_rank = 10\n",
    "\n",
    "num_features = len(s_features)\n",
    "w_cores = [None] * num_features\n",
    "\n",
    "coef = logreg.coef_[0]\n",
    "intercept = logreg.intercept_[0]\n",
    "\n",
    "# see paper for details about initialization\n",
    "begin_feature = [0] + list(np.cumsum(s_features))\n",
    "for i in range(num_features):\n",
    "    n_factors = s_features[i]\n",
    "    if i == 0:\n",
    "        tmp = np.zeros((n_factors+1, 1, target_rank))\n",
    "        for local_j, global_j in enumerate([-1] + list(range(begin_feature[i], s_features[i]))):\n",
    "            if local_j==0:\n",
    "                tmp[local_j,:1,:2] = [1, 0]\n",
    "            else:\n",
    "                tmp[local_j,:1,:2] = [0, coef[global_j]]\n",
    "        w_cores[i] = tmp.astype(np.float32)\n",
    "            \n",
    "    elif i == num_features-1:\n",
    "        tmp = np.zeros((n_factors+1, target_rank, 1))\n",
    "        for local_j, global_j in enumerate([-1] + list(range(begin_feature[i], s_features[i]))):\n",
    "            if local_j==0:\n",
    "                tmp[local_j,:2,:1] = np.array([[intercept], [1]])\n",
    "            else:\n",
    "                tmp[local_j,:2,:1] = [[coef[global_j]], [0]]\n",
    "        w_cores[i] = tmp.astype(np.float32)\n",
    "            \n",
    "    else:\n",
    "        tmp = np.zeros((n_factors+1, target_rank, target_rank))\n",
    "        for local_j, global_j in enumerate([-1] + list(range(begin_feature[i], s_features[i]))):\n",
    "            if local_j==0:\n",
    "                tmp[local_j,:2,:2] = np.eye(2)\n",
    "            else:\n",
    "                tmp[local_j,:2,:2] = [[0, coef[global_j]], [0,0]]\n",
    "        w_cores[i] = tmp.astype(np.float32)"
   ]
  },
  {
   "cell_type": "markdown",
   "metadata": {},
   "source": [
    "# Init model"
   ]
  },
  {
   "cell_type": "code",
   "execution_count": 13,
   "metadata": {
    "collapsed": false
   },
   "outputs": [],
   "source": [
    "model.destroy()\n",
    "model = TFExpMachine(rank=target_rank, s_features=s_features, init_std=0.001, reg=0.012, exp_reg=1.8)\n",
    "model.init_from_cores(w_cores)\n",
    "model.build_graph()\n",
    "model.initialize_session()"
   ]
  },
  {
   "cell_type": "markdown",
   "metadata": {},
   "source": [
    "# Learning"
   ]
  },
  {
   "cell_type": "code",
   "execution_count": 14,
   "metadata": {
    "collapsed": false,
    "scrolled": false
   },
   "outputs": [
    {
     "name": "stdout",
     "output_type": "stream",
     "text": [
      "2: te_auc: 0.7661\n",
      "4: te_auc: 0.7713\n",
      "6: te_auc: 0.7758\n",
      "8: te_auc: 0.7780\n",
      "10: te_auc: 0.7788\n",
      "12: te_auc: 0.7794\n",
      "14: te_auc: 0.7800\n",
      "16: te_auc: 0.7806\n",
      "18: te_auc: 0.7809\n",
      "20: te_auc: 0.7811\n",
      "22: te_auc: 0.7812\n",
      "24: te_auc: 0.7814\n",
      "26: te_auc: 0.7816\n",
      "28: te_auc: 0.7818\n",
      "30: te_auc: 0.7819\n",
      "32: te_auc: 0.7822\n",
      "34: te_auc: 0.7825\n",
      "36: te_auc: 0.7828\n",
      "38: te_auc: 0.7832\n",
      "40: te_auc: 0.7834\n",
      "42: te_auc: 0.7835\n",
      "44: te_auc: 0.7835\n",
      "46: te_auc: 0.7834\n",
      "48: te_auc: 0.7834\n"
     ]
    }
   ],
   "source": [
    "epoch_hist = []\n",
    "for epoch in range(50):\n",
    "    # train phase\n",
    "    loss_hist = []\n",
    "    penalty_hist = []\n",
    "    for x, y in simple_batcher(X_tr, y_tr, 256):\n",
    "        fd = {model.X: x, model.Y: 2*y-1}\n",
    "        run_ops = [model.trainer, model.outputs, model.loss, model.penalty]\n",
    "        _, outs, batch_loss, penalty = model.session.run(run_ops, fd)\n",
    "        loss_hist.append(batch_loss)\n",
    "        penalty_hist.append(penalty)\n",
    "    epoch_train_loss = np.mean(loss_hist)\n",
    "    epoch_train_pen = np.mean(penalty_hist)\n",
    "    \n",
    "    epoch_stats = {\n",
    "        'epoch': epoch,\n",
    "        'train_logloss': float(epoch_train_loss)\n",
    "    }\n",
    "    \n",
    "    # test phase\n",
    "    if epoch%2==0 and epoch>0:\n",
    "        fd = {model.X: X_te, model.Y: 2*y_te-1}\n",
    "        run_ops = [model.outputs, model.loss, model.penalty, model.penalized_loss]\n",
    "        outs, raw_loss, raw_penalty, loss = model.session.run(run_ops, fd)\n",
    "        epoch_test_loss = roc_auc_score(y_te, outs)\n",
    "        epoch_stats['test_auc'] = float(epoch_test_loss),\n",
    "        epoch_stats['penalty'] = float(raw_penalty)\n",
    "        print('{}: te_auc: {:.4f}'.format(epoch, epoch_test_loss))\n",
    "    epoch_hist.append(epoch_stats)\n",
    "    # dump to json\n",
    "    json.dump(epoch_hist, open('./tmp/ExM_rank10_ereg1.8.json', 'w'))"
   ]
  },
  {
   "cell_type": "code",
   "execution_count": null,
   "metadata": {
    "collapsed": true
   },
   "outputs": [],
   "source": [
    "# Draw plot"
   ]
  },
  {
   "cell_type": "code",
   "execution_count": 21,
   "metadata": {
    "collapsed": false
   },
   "outputs": [
    {
     "name": "stdout",
     "output_type": "stream",
     "text": [
      "Populating the interactive namespace from numpy and matplotlib\n"
     ]
    },
    {
     "data": {
      "text/plain": [
       "<matplotlib.text.Text at 0x7fc397287208>"
      ]
     },
     "execution_count": 21,
     "metadata": {},
     "output_type": "execute_result"
    },
    {
     "data": {
      "image/png": "[encoded data removed]",
      "text/plain": [
       "<matplotlib.figure.Figure at 0x7fc2bc74c940>"
      ]
     },
     "metadata": {},
     "output_type": "display_data"
    }
   ],
   "source": [
    "%pylab inline\n",
    "plot([x['epoch'] for x in epoch_hist if 'test_auc' in x], [x['test_auc'] for x in epoch_hist if 'test_auc' in x])\n",
    "grid()\n",
    "ylim(0.775, 0.785)\n",
    "xlabel('epoch')\n",
    "ylabel('test auc')"
   ]
  },
  {
   "cell_type": "code",
   "execution_count": 22,
   "metadata": {
    "collapsed": true
   },
   "outputs": [],
   "source": [
    "# release resources\n",
    "model.destroy()"
   ]
  },
  {
   "cell_type": "code",
   "execution_count": null,
   "metadata": {
    "collapsed": true
   },
   "outputs": [],
   "source": []
  }
 ],
 "metadata": {
  "anaconda-cloud": {},
  "kernelspec": {
   "display_name": "Python 3",
   "language": "python",
   "name": "python3"
  },
  "language_info": {
   "codemirror_mode": {
    "name": "ipython",
    "version": 3
   },
   "file_extension": ".py",
   "mimetype": "text/x-python",
   "name": "python",
   "nbconvert_exporter": "python",
   "pygments_lexer": "ipython3",
   "version": "3.5.1"
  }
 },
 "nbformat": 4,
 "nbformat_minor": 1
}
