{
 "cells": [
  {
   "cell_type": "code",
   "execution_count": 1,
   "metadata": {
    "collapsed": false
   },
   "outputs": [
    {
     "name": "stderr",
     "output_type": "stream",
     "text": [
      "/Users/alex/miniconda2/lib/python2.7/site-packages/matplotlib/font_manager.py:273: UserWarning: Matplotlib is building the font cache using fc-list. This may take a moment.\n",
      "  warnings.warn('Matplotlib is building the font cache using fc-list. This may take a moment.')\n"
     ]
    }
   ],
   "source": [
    "import os\n",
    "import cPickle as pickle\n",
    "import numpy as np\n",
    "import pandas as pd\n",
    "from sklearn.cross_validation import train_test_split\n",
    "\n",
    "import sys\n",
    "sys.path.append('../')\n",
    "\n",
    "%matplotlib inline\n",
    "import matplotlib.pylab as plt\n",
    "from src.TTRegression import TTRegression\n",
    "import urllib"
   ]
  },
  {
   "cell_type": "code",
   "execution_count": 2,
   "metadata": {
    "collapsed": true
   },
   "outputs": [],
   "source": [
    "def get_dummies(d, col):\n",
    "    dd = pd.get_dummies(d.ix[:, col])\n",
    "    dd.columns = [str(col) + \"_%s\" % c for c in dd.columns]\n",
    "    return(dd)"
   ]
  },
  {
   "cell_type": "code",
   "execution_count": 7,
   "metadata": {
    "collapsed": false
   },
   "outputs": [
    {
     "name": "stdout",
     "output_type": "stream",
     "text": [
      "... loading data\n",
      "dataset len: 1728\n",
      "\n",
      "Original targets:\n",
      "unacc    1210\n",
      "acc       384\n",
      "good       69\n",
      "vgood      65\n",
      "Name: target, dtype: int64\n"
     ]
    }
   ],
   "source": [
    "# Reproducability.\n",
    "np.random.seed(0)\n",
    "\n",
    "dataset_path = 'car.data'\n",
    "if (not os.path.isfile(dataset_path)):\n",
    "    dataset_url = 'http://archive.ics.uci.edu/ml/machine-learning-databases/car/car.data'\n",
    "    print('Downloading data from %s' % dataset_url)\n",
    "    urllib.urlretrieve(dataset_url, dataset_path)\n",
    "\n",
    "print('... loading data')\n",
    "car_data = pd.read_csv(dataset_path, names=car_names, header=None)\n",
    "\n",
    "print \"dataset len: %d\\n\" % len(car_data)\n",
    "print \"Original targets:\"\n",
    "print car_data.target.value_counts()\n",
    "\n",
    "# Make binary classification problem.\n",
    "car_target = car_data['target']\n",
    "car_target_binarized = (car_target.values != 'unacc') * 1\n",
    "\n",
    "car_names = ['buying', 'maint', 'doors', 'persons', 'lug_boot', 'safety', 'target']\n",
    "\n",
    "car_features = car_data.ix[:, :6]\n",
    "car_features_one_hot = pd.concat([get_dummies(car_features, col) for col in list(car_features.columns.values)], axis = 1)\n",
    "car_features_one_hot = car_features_one_hot.as_matrix()\n",
    "\n",
    "# Shuffle.\n",
    "idx_perm = np.random.permutation(len(car_data))\n",
    "\n",
    "X, y = car_features_one_hot[idx_perm[:1500], :], car_target_binarized[idx_perm[:1500]]\n",
    "X, y = X.astype(np.float32), y.astype(np.float32)"
   ]
  },
  {
   "cell_type": "markdown",
   "metadata": {},
   "source": [
    "# Train"
   ]
  },
  {
   "cell_type": "code",
   "execution_count": 4,
   "metadata": {
    "collapsed": false
   },
   "outputs": [],
   "source": [
    "plain_sgd = {}\n",
    "riemannian_sgd = {}\n",
    "\n",
    "for batch_size in [-1, 100, 500]:\n",
    "    model = TTRegression('all-subsets', 'logistic', 4, 'sgd', max_iter=30, verbose=1, fit_intercept=False, batch_size=batch_size, reg=0.)\n",
    "    model.fit(X, y)\n",
    "    plain_sgd[batch_size] = model\n",
    "    rieamannian_model = TTRegression('all-subsets', 'logistic', 4, 'riemannian-sgd', max_iter=2, verbose=1, batch_size=batch_size, fit_intercept=False, reg=0.)\n",
    "    rieamannian_model.fit(X, y)\n",
    "    riemannian_sgd[batch_size] = rieamannian_model"
   ]
  },
  {
   "cell_type": "markdown",
   "metadata": {},
   "source": [
    "# Save"
   ]
  },
  {
   "cell_type": "code",
   "execution_count": 5,
   "metadata": {
    "collapsed": false
   },
   "outputs": [],
   "source": [
    "with open('riemannian_vs_baseline.pickle', 'wb') as f:\n",
    "    obj = {'plain_sgd': plain_sgd, 'riemannian_sgd': riemannian_sgd, 'X': X, 'y': y}\n",
    "    pickle.dump(obj, f, protocol=pickle.HIGHEST_PROTOCOL)"
   ]
  },
  {
   "cell_type": "markdown",
   "metadata": {},
   "source": [
    "# Plot"
   ]
  },
  {
   "cell_type": "code",
   "execution_count": 6,
   "metadata": {
    "collapsed": false
   },
   "outputs": [
    {
     "data": {
      "text/plain": [
       "<matplotlib.text.Text at 0x113240cd0>"
      ]
     },
     "execution_count": 6,
     "metadata": {},
     "output_type": "execute_result"
    },
    {
     "data": {
      "image/png": "[encoded data removed]",
      "text/plain": [
       "<matplotlib.figure.Figure at 0x1136a5890>"
      ]
     },
     "metadata": {},
     "output_type": "display_data"
    }
   ],
   "source": [
    "for batch_size in plain_sgd.keys():\n",
    "    if batch_size == -1:\n",
    "        name = 'GD'\n",
    "    else:\n",
    "        name = 'SGD ' + str(batch_size)\n",
    "    plt.loglog(plain_sgd[batch_size].logger.time_hist, plain_sgd[batch_size].logger.loss_hist['train']['logistic'], label=name)\n",
    "for batch_size in plain_sgd.keys():\n",
    "    if batch_size == -1:\n",
    "        name = 'Riemannian GD'\n",
    "    else:\n",
    "        name = 'Riemannian SGD ' + str(batch_size)\n",
    "    plt.loglog(riemannian_sgd[batch_size].logger.time_hist, riemannian_sgd[batch_size].logger.loss_hist['train']['logistic'], label=name)\n",
    "plt.legend(loc='best')\n",
    "plt.xlabel('time (s)')\n",
    "plt.ylabel('train loss')"
   ]
  },
  {
   "cell_type": "code",
   "execution_count": null,
   "metadata": {
    "collapsed": true
   },
   "outputs": [],
   "source": []
  }
 ],
 "metadata": {
  "kernelspec": {
   "display_name": "Python 2",
   "language": "python",
   "name": "python2"
  },
  "language_info": {
   "codemirror_mode": {
    "name": "ipython",
    "version": 2
   },
   "file_extension": ".py",
   "mimetype": "text/x-python",
   "name": "python",
   "nbconvert_exporter": "python",
   "pygments_lexer": "ipython2",
   "version": "2.7.11"
  }
 },
 "nbformat": 4,
 "nbformat_minor": 0
}
